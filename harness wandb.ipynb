{
 "cells": [
  {
   "cell_type": "code",
   "id": "3851439a-bff4-41f2-bf21-1b3d8704913b",
   "metadata": {
    "scrolled": true,
    "colab": {
     "base_uri": "https://localhost:8080/"
    },
    "id": "3851439a-bff4-41f2-bf21-1b3d8704913b",
    "outputId": "82f5412c-2f2c-4833-99f9-bcb82cb7c06d"
   },
   "source": [
    "# Install this project if you did not already have it.\n",
    "# This is all that is needed to be installed to start using Weights and Biases\n",
    "\n",
    "!pip install git+https://github.com/EleutherAI/lm-evaluation-harness.git huggingface_hub wandb"
   ],
   "outputs": [],
   "execution_count": null
  },
  {
   "cell_type": "code",
   "source": [
    "!huggingface-cli login"
   ],
   "metadata": {
    "colab": {
     "base_uri": "https://localhost:8080/"
    },
    "id": "RIlmBX1C0bx_",
    "outputId": "28be26c5-3f2b-466c-f422-ec645f34b89e"
   },
   "id": "RIlmBX1C0bx_",
   "outputs": [],
   "execution_count": null
  },
  {
   "cell_type": "code",
   "source": [
    "from lm_eval import api"
   ],
   "metadata": {
    "id": "tZ0T79kU0gvl"
   },
   "id": "tZ0T79kU0gvl",
   "execution_count": 3,
   "outputs": []
  },
  {
   "cell_type": "code",
   "source": [
    "YAML_boolq_string = '''\n",
    "task: demo_boolq\n",
    "dataset_path: super_glue\n",
    "dataset_name: boolq\n",
    "output_type: multiple_choice\n",
    "training_split: train\n",
    "validation_split: validation\n",
    "doc_to_text: \"{{passage}}\\nQuestion: {{question}}?\\nAnswer:\"\n",
    "doc_to_target: label\n",
    "doc_to_choice: [\"no\", \"yes\"]\n",
    "should_decontaminate: true\n",
    "doc_to_decontamination_query: passage\n",
    "metric_list:\n",
    "  - metric: acc\n",
    "dataset_kwargs:\n",
    "  trust_remote_code: true\n",
    "'''\n",
    "with open('boolq.yaml', 'w') as f:\n",
    "    f.write(YAML_boolq_string)"
   ],
   "metadata": {
    "id": "7EBQUAK_0iNn"
   },
   "id": "7EBQUAK_0iNn",
   "execution_count": 4,
   "outputs": []
  },
  {
   "cell_type": "code",
   "id": "d824d163-71a9-4313-935d-f1d56397841c",
   "metadata": {
    "colab": {
     "base_uri": "https://localhost:8080/",
     "height": 142
    },
    "id": "d824d163-71a9-4313-935d-f1d56397841c",
    "outputId": "0b45a12f-675d-4fc7-babc-7737c0e9134f"
   },
   "source": [
    "import wandb\n",
    "\n",
    "wandb.login()"
   ],
   "outputs": [],
   "execution_count": null
  },
  {
   "cell_type": "markdown",
   "id": "124e4a34-1547-4bed-bc09-db012bacbda6",
   "metadata": {
    "id": "124e4a34-1547-4bed-bc09-db012bacbda6"
   },
   "source": [
    "> Note that if you are using command line you can simply authenticate your machine by doing `wandb login` in your terminal. For more info check out the [documentation](https://docs.wandb.ai/quickstart#2-log-in-to-wb)."
   ]
  },
  {
   "cell_type": "markdown",
   "id": "abc6f6b6-179a-4aff-ada9-f380fb74df6e",
   "metadata": {
    "id": "abc6f6b6-179a-4aff-ada9-f380fb74df6e"
   },
   "source": [
    "## Run and log to W&B"
   ]
  },
  {
   "cell_type": "code",
   "id": "bd0a8130-a97b-451a-acd2-3f9885b88643",
   "metadata": {
    "colab": {
     "base_uri": "https://localhost:8080/"
    },
    "id": "bd0a8130-a97b-451a-acd2-3f9885b88643",
    "outputId": "1d02d67f-4029-4bd2-c081-9953ec45224c"
   },
   "source": [
    "!lm_eval \\\n",
    "    --model hf \\\n",
    "    --model_args pretrained=meta-llama/Meta-Llama-3.1-8B-Instruct \\\n",
    "    --tasks hellaswag,mmlu_abstract_algebra,lambada_openai \\\n",
    "    --device cuda:0 \\\n",
    "    --batch_size 8 \\\n",
    "    --output_path output/hf-meta-llama-3.1 \\\n",
    "    --limit 10 \\\n",
    "    --wandb_args project=lm-eval-harness-integration \\\n",
    "    --log_samples"
   ],
   "outputs": [],
   "execution_count": null
  }
 ],
 "metadata": {
  "kernelspec": {
   "display_name": "Python 3",
   "name": "python3"
  },
  "language_info": {
   "codemirror_mode": {
    "name": "ipython",
    "version": 3
   },
   "file_extension": ".py",
   "mimetype": "text/x-python",
   "name": "python",
   "nbconvert_exporter": "python",
   "pygments_lexer": "ipython3",
   "version": "3.10.12"
  },
  "colab": {
   "provenance": [],
   "gpuType": "A100"
  },
  "accelerator": "GPU"
 },
 "nbformat": 4,
 "nbformat_minor": 5
}
